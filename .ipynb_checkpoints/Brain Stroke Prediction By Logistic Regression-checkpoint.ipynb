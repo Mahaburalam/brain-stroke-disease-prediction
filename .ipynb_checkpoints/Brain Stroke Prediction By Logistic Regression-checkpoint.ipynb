{
 "cells": [
  {
   "cell_type": "code",
   "execution_count": 1,
   "metadata": {},
   "outputs": [],
   "source": [
    "#Import Libraries\n",
    "import numpy as np\n",
    "import pandas as pd\n",
    "from sklearn.linear_model import LogisticRegression\n",
    "from sklearn.metrics import classification_report\n",
    "from sklearn.model_selection import GridSearchCV\n",
    "from imblearn.under_sampling import RandomUnderSampler\n",
    "import matplotlib.pyplot as plt\n",
    "%matplotlib inline"
   ]
  },
  {
   "cell_type": "code",
   "execution_count": 2,
   "metadata": {},
   "outputs": [],
   "source": [
    "# Importing the dataset\n",
    "df = pd.read_csv('E:/Research--Thesis/Data Set/strokeDataNoMissingValueUpdated.csv')"
   ]
  },
  {
   "cell_type": "code",
   "execution_count": 3,
   "metadata": {},
   "outputs": [
    {
     "data": {
      "text/html": [
       "<div>\n",
       "<style scoped>\n",
       "    .dataframe tbody tr th:only-of-type {\n",
       "        vertical-align: middle;\n",
       "    }\n",
       "\n",
       "    .dataframe tbody tr th {\n",
       "        vertical-align: top;\n",
       "    }\n",
       "\n",
       "    .dataframe thead th {\n",
       "        text-align: right;\n",
       "    }\n",
       "</style>\n",
       "<table border=\"1\" class=\"dataframe\">\n",
       "  <thead>\n",
       "    <tr style=\"text-align: right;\">\n",
       "      <th></th>\n",
       "      <th>Gender</th>\n",
       "      <th>Age</th>\n",
       "      <th>Work Type</th>\n",
       "      <th>Residence Area</th>\n",
       "      <th>Married</th>\n",
       "      <th>Hyper Tension</th>\n",
       "      <th>Heart Disease</th>\n",
       "      <th>Smoking</th>\n",
       "      <th>Average Glucose Level</th>\n",
       "      <th>Weight(Kg)</th>\n",
       "      <th>...</th>\n",
       "      <th>Serum Cholesterol</th>\n",
       "      <th>LDL</th>\n",
       "      <th>HDL</th>\n",
       "      <th>Triglyceried</th>\n",
       "      <th>HbA1c</th>\n",
       "      <th>Hb</th>\n",
       "      <th>RBC</th>\n",
       "      <th>WBC</th>\n",
       "      <th>ESR</th>\n",
       "      <th>Brain Stroke</th>\n",
       "    </tr>\n",
       "  </thead>\n",
       "  <tbody>\n",
       "    <tr>\n",
       "      <th>0</th>\n",
       "      <td>1</td>\n",
       "      <td>85</td>\n",
       "      <td>3</td>\n",
       "      <td>1</td>\n",
       "      <td>1</td>\n",
       "      <td>1</td>\n",
       "      <td>0</td>\n",
       "      <td>0</td>\n",
       "      <td>8.0</td>\n",
       "      <td>62</td>\n",
       "      <td>...</td>\n",
       "      <td>158</td>\n",
       "      <td>90</td>\n",
       "      <td>48</td>\n",
       "      <td>98</td>\n",
       "      <td>8.863526</td>\n",
       "      <td>12.80</td>\n",
       "      <td>4.260000</td>\n",
       "      <td>12.00</td>\n",
       "      <td>20</td>\n",
       "      <td>1</td>\n",
       "    </tr>\n",
       "    <tr>\n",
       "      <th>1</th>\n",
       "      <td>1</td>\n",
       "      <td>85</td>\n",
       "      <td>4</td>\n",
       "      <td>0</td>\n",
       "      <td>1</td>\n",
       "      <td>1</td>\n",
       "      <td>0</td>\n",
       "      <td>0</td>\n",
       "      <td>7.0</td>\n",
       "      <td>55</td>\n",
       "      <td>...</td>\n",
       "      <td>167</td>\n",
       "      <td>108</td>\n",
       "      <td>44</td>\n",
       "      <td>101</td>\n",
       "      <td>8.863526</td>\n",
       "      <td>12.70</td>\n",
       "      <td>4.400000</td>\n",
       "      <td>10.85</td>\n",
       "      <td>9</td>\n",
       "      <td>1</td>\n",
       "    </tr>\n",
       "    <tr>\n",
       "      <th>2</th>\n",
       "      <td>1</td>\n",
       "      <td>65</td>\n",
       "      <td>5</td>\n",
       "      <td>0</td>\n",
       "      <td>1</td>\n",
       "      <td>1</td>\n",
       "      <td>0</td>\n",
       "      <td>0</td>\n",
       "      <td>5.0</td>\n",
       "      <td>50</td>\n",
       "      <td>...</td>\n",
       "      <td>167</td>\n",
       "      <td>108</td>\n",
       "      <td>44</td>\n",
       "      <td>106</td>\n",
       "      <td>8.863526</td>\n",
       "      <td>11.91</td>\n",
       "      <td>4.300000</td>\n",
       "      <td>4.00</td>\n",
       "      <td>6</td>\n",
       "      <td>1</td>\n",
       "    </tr>\n",
       "    <tr>\n",
       "      <th>3</th>\n",
       "      <td>1</td>\n",
       "      <td>55</td>\n",
       "      <td>1</td>\n",
       "      <td>0</td>\n",
       "      <td>1</td>\n",
       "      <td>1</td>\n",
       "      <td>0</td>\n",
       "      <td>0</td>\n",
       "      <td>5.2</td>\n",
       "      <td>70</td>\n",
       "      <td>...</td>\n",
       "      <td>141</td>\n",
       "      <td>73</td>\n",
       "      <td>47</td>\n",
       "      <td>104</td>\n",
       "      <td>10.200000</td>\n",
       "      <td>13.90</td>\n",
       "      <td>4.902467</td>\n",
       "      <td>20.00</td>\n",
       "      <td>35</td>\n",
       "      <td>1</td>\n",
       "    </tr>\n",
       "    <tr>\n",
       "      <th>4</th>\n",
       "      <td>1</td>\n",
       "      <td>65</td>\n",
       "      <td>1</td>\n",
       "      <td>1</td>\n",
       "      <td>1</td>\n",
       "      <td>1</td>\n",
       "      <td>1</td>\n",
       "      <td>0</td>\n",
       "      <td>7.1</td>\n",
       "      <td>50</td>\n",
       "      <td>...</td>\n",
       "      <td>156</td>\n",
       "      <td>81</td>\n",
       "      <td>40</td>\n",
       "      <td>169</td>\n",
       "      <td>8.863526</td>\n",
       "      <td>13.80</td>\n",
       "      <td>5.150000</td>\n",
       "      <td>9.00</td>\n",
       "      <td>13</td>\n",
       "      <td>1</td>\n",
       "    </tr>\n",
       "  </tbody>\n",
       "</table>\n",
       "<p>5 rows × 24 columns</p>\n",
       "</div>"
      ],
      "text/plain": [
       "   Gender  Age  Work Type  Residence Area  Married  Hyper Tension  \\\n",
       "0       1   85          3               1        1              1   \n",
       "1       1   85          4               0        1              1   \n",
       "2       1   65          5               0        1              1   \n",
       "3       1   55          1               0        1              1   \n",
       "4       1   65          1               1        1              1   \n",
       "\n",
       "   Heart Disease  Smoking  Average Glucose Level  Weight(Kg)      ...       \\\n",
       "0              0        0                    8.0          62      ...        \n",
       "1              0        0                    7.0          55      ...        \n",
       "2              0        0                    5.0          50      ...        \n",
       "3              0        0                    5.2          70      ...        \n",
       "4              1        0                    7.1          50      ...        \n",
       "\n",
       "   Serum Cholesterol  LDL  HDL  Triglyceried      HbA1c     Hb       RBC  \\\n",
       "0                158   90   48            98   8.863526  12.80  4.260000   \n",
       "1                167  108   44           101   8.863526  12.70  4.400000   \n",
       "2                167  108   44           106   8.863526  11.91  4.300000   \n",
       "3                141   73   47           104  10.200000  13.90  4.902467   \n",
       "4                156   81   40           169   8.863526  13.80  5.150000   \n",
       "\n",
       "     WBC  ESR  Brain Stroke  \n",
       "0  12.00   20             1  \n",
       "1  10.85    9             1  \n",
       "2   4.00    6             1  \n",
       "3  20.00   35             1  \n",
       "4   9.00   13             1  \n",
       "\n",
       "[5 rows x 24 columns]"
      ]
     },
     "execution_count": 3,
     "metadata": {},
     "output_type": "execute_result"
    }
   ],
   "source": [
    "df.head()"
   ]
  },
  {
   "cell_type": "code",
   "execution_count": 4,
   "metadata": {},
   "outputs": [],
   "source": [
    "#separate data and brain stroke\n",
    "X = df.iloc[:,:-1].values\n",
    "y = df.iloc[:,-1].values"
   ]
  },
  {
   "cell_type": "code",
   "execution_count": 5,
   "metadata": {},
   "outputs": [
    {
     "data": {
      "text/plain": [
       "array([1, 1, 1, 1, 1, 1, 1, 1, 1, 1, 1, 1, 1, 1, 1, 1, 1, 1, 1, 1, 1, 1,\n",
       "       1, 1, 1, 1, 1, 1, 1, 1, 1, 1, 1, 1, 1, 1, 1, 1, 1, 1, 1, 1, 1, 1,\n",
       "       1, 1, 1, 1, 1, 1, 1, 1, 1, 1, 1, 1, 1, 1, 1, 1, 1, 1, 1, 1, 1, 1,\n",
       "       1, 1, 1, 1, 1, 1, 1, 1, 1, 1, 1, 1, 1, 1, 1, 1, 1, 1, 1, 1, 1, 1,\n",
       "       1, 1, 1, 1, 1, 1, 1, 1, 1, 1, 1, 1, 1, 1, 1, 1, 1, 1, 1, 1, 1, 1,\n",
       "       1, 1, 1, 1, 1, 1, 1, 1, 1, 1, 1, 1, 1, 1, 1, 1, 1, 1, 1, 1, 1, 1,\n",
       "       1, 1, 1, 1, 1, 1, 1, 1, 1, 1, 1, 1, 1, 1, 1, 1, 1, 1, 1, 1, 1, 1,\n",
       "       1, 1, 1, 1, 1, 1, 1, 1, 1, 1, 1, 1, 1, 1, 1, 1, 1, 1, 1, 1, 1, 1,\n",
       "       1, 1, 1, 1, 1, 1, 1, 1, 1, 1, 1, 1, 1, 1, 1, 1, 1, 1, 1, 1, 1, 1,\n",
       "       1, 1, 1, 1, 1, 1, 1, 1, 1, 1, 1, 1, 1, 1, 1, 1, 1, 1, 1, 1, 1, 1,\n",
       "       1, 1, 1, 1, 1, 1, 1, 1, 1, 1, 1, 1, 1, 1, 0, 0, 0, 0, 0, 0, 0, 0,\n",
       "       0, 0, 0, 0, 0, 0, 0, 0, 0, 0, 0, 0, 0, 0, 0, 0, 0, 0, 0, 0, 0, 0,\n",
       "       0, 0, 0, 0, 0, 0, 0, 0, 0, 0, 0, 0, 0, 0, 0, 0, 0, 0, 0, 0, 0, 0,\n",
       "       0, 0, 0, 0, 0, 0, 0, 0, 0, 0, 0, 0, 0, 0, 0, 0, 0, 0, 0, 0, 0, 0,\n",
       "       0, 0, 0, 0, 0, 0, 0, 0, 0, 0, 0, 0, 0, 0, 0, 0, 0, 0, 0, 0, 0, 0,\n",
       "       0, 0, 0, 0, 0, 0, 0, 0, 0, 0, 0, 0, 0, 0, 0, 0, 0, 0, 0, 0, 0, 0,\n",
       "       0, 0, 0, 0, 0, 0, 0, 0, 0, 0, 0, 0, 0, 0, 0, 0, 0, 0, 0, 0, 0, 0,\n",
       "       0, 0, 0, 0, 0, 0, 0, 0, 0, 0, 0], dtype=int64)"
      ]
     },
     "execution_count": 5,
     "metadata": {},
     "output_type": "execute_result"
    }
   ],
   "source": [
    "y"
   ]
  },
  {
   "cell_type": "code",
   "execution_count": 6,
   "metadata": {},
   "outputs": [],
   "source": [
    "#Split train test data\n",
    "from sklearn.model_selection import train_test_split  \n",
    "X_train, X_test, y_train, y_test  = train_test_split(X, y, test_size = 0.3, random_state = 42)  "
   ]
  },
  {
   "cell_type": "code",
   "execution_count": 7,
   "metadata": {},
   "outputs": [
    {
     "data": {
      "text/plain": [
       "{0: 112, 1: 157}"
      ]
     },
     "execution_count": 7,
     "metadata": {},
     "output_type": "execute_result"
    }
   ],
   "source": [
    "#Check number of brain stroke (yes) and brain stroke (no)  in the train data\n",
    "unique, counts = np.unique(y_train, return_counts=True)\n",
    "dict(zip(unique, counts))"
   ]
  },
  {
   "cell_type": "code",
   "execution_count": 8,
   "metadata": {},
   "outputs": [
    {
     "data": {
      "text/plain": [
       "{0: 39, 1: 77}"
      ]
     },
     "execution_count": 8,
     "metadata": {},
     "output_type": "execute_result"
    }
   ],
   "source": [
    "#Check number of brain stroke (yes) and brain stroke (no)  in the test data\n",
    "unique, counts = np.unique(y_test, return_counts=True)\n",
    "dict(zip(unique, counts))"
   ]
  },
  {
   "cell_type": "code",
   "execution_count": 9,
   "metadata": {},
   "outputs": [],
   "source": [
    "# Apply the random under-sampling for train dataset ( balance of train data)\n",
    "from imblearn.under_sampling import RandomUnderSampler\n",
    "rus = RandomUnderSampler(return_indices=True, random_state = 42)\n",
    "X_train, y_train, idx_resampled = rus.fit_sample(X_train, y_train)"
   ]
  },
  {
   "cell_type": "code",
   "execution_count": 10,
   "metadata": {},
   "outputs": [],
   "source": [
    "# Apply the random under-sampling for testing dataset (balance of test data)\n",
    "from imblearn.under_sampling import RandomUnderSampler\n",
    "rus = RandomUnderSampler(return_indices=True, random_state = 42)\n",
    "X_test, y_test, idx_resampled = rus.fit_sample(X_test, y_test)"
   ]
  },
  {
   "cell_type": "code",
   "execution_count": 11,
   "metadata": {},
   "outputs": [
    {
     "data": {
      "text/plain": [
       "{0: 112, 1: 112}"
      ]
     },
     "execution_count": 11,
     "metadata": {},
     "output_type": "execute_result"
    }
   ],
   "source": [
    "#Check number of brain stroke (yes) and brain stroke (no)  in the train data\n",
    "unique, counts = np.unique(y_train, return_counts=True)\n",
    "dict(zip(unique, counts))"
   ]
  },
  {
   "cell_type": "code",
   "execution_count": 12,
   "metadata": {},
   "outputs": [],
   "source": [
    "#Normalize the train dataset\n",
    "from sklearn import preprocessing\n",
    "min_max_scaler = preprocessing.MinMaxScaler()\n",
    "X_train = min_max_scaler.fit_transform(X_train)"
   ]
  },
  {
   "cell_type": "code",
   "execution_count": 13,
   "metadata": {},
   "outputs": [],
   "source": [
    "#Normalized the test dataset\n",
    "X_test = min_max_scaler.transform(X_test)"
   ]
  },
  {
   "cell_type": "code",
   "execution_count": 15,
   "metadata": {},
   "outputs": [],
   "source": [
    "# Define model\n",
    "clf = LogisticRegression()"
   ]
  },
  {
   "cell_type": "code",
   "execution_count": 18,
   "metadata": {},
   "outputs": [
    {
     "name": "stdout",
     "output_type": "stream",
     "text": [
      "Fitting 10 folds for each of 12 candidates, totalling 120 fits\n",
      "[CV] C=1, penalty=l2, solver=newton-cg ...............................\n",
      "[CV] ... C=1, penalty=l2, solver=newton-cg, score=0.875, total=   0.0s\n",
      "[CV] C=1, penalty=l2, solver=newton-cg ...............................\n",
      "[CV]  C=1, penalty=l2, solver=newton-cg, score=0.9166666666666666, total=   0.0s\n",
      "[CV] C=1, penalty=l2, solver=newton-cg ...............................\n",
      "[CV]  C=1, penalty=l2, solver=newton-cg, score=0.9090909090909091, total=   0.0s\n",
      "[CV] C=1, penalty=l2, solver=newton-cg ...............................\n",
      "[CV]  C=1, penalty=l2, solver=newton-cg, score=0.9545454545454546, total=   0.0s\n",
      "[CV] C=1, penalty=l2, solver=newton-cg ...............................\n",
      "[CV] ..... C=1, penalty=l2, solver=newton-cg, score=1.0, total=   0.0s\n",
      "[CV] C=1, penalty=l2, solver=newton-cg ...............................\n",
      "[CV]  C=1, penalty=l2, solver=newton-cg, score=0.9090909090909091, total=   0.0s\n",
      "[CV] C=1, penalty=l2, solver=newton-cg ...............................\n",
      "[CV] ..... C=1, penalty=l2, solver=newton-cg, score=1.0, total=   0.0s\n",
      "[CV] C=1, penalty=l2, solver=newton-cg ...............................\n",
      "[CV]  C=1, penalty=l2, solver=newton-cg, score=0.9090909090909091, total=   0.0s\n",
      "[CV] C=1, penalty=l2, solver=newton-cg ...............................\n",
      "[CV]  C=1, penalty=l2, solver=newton-cg, score=0.8181818181818182, total=   0.0s\n",
      "[CV] C=1, penalty=l2, solver=newton-cg ...............................\n",
      "[CV]  C=1, penalty=l2, solver=newton-cg, score=0.9090909090909091, total=   0.0s\n",
      "[CV] C=1, penalty=l2, solver=lbfgs ...................................\n",
      "[CV] ....... C=1, penalty=l2, solver=lbfgs, score=0.875, total=   0.0s\n",
      "[CV] C=1, penalty=l2, solver=lbfgs ...................................\n",
      "[CV]  C=1, penalty=l2, solver=lbfgs, score=0.9166666666666666, total=   0.0s\n",
      "[CV] C=1, penalty=l2, solver=lbfgs ...................................\n",
      "[CV]  C=1, penalty=l2, solver=lbfgs, score=0.9090909090909091, total=   0.0s\n",
      "[CV] C=1, penalty=l2, solver=lbfgs ...................................\n",
      "[CV]  C=1, penalty=l2, solver=lbfgs, score=0.9545454545454546, total=   0.0s"
     ]
    },
    {
     "name": "stderr",
     "output_type": "stream",
     "text": [
      "[Parallel(n_jobs=1)]: Using backend SequentialBackend with 1 concurrent workers.\n",
      "[Parallel(n_jobs=1)]: Done   1 out of   1 | elapsed:    0.0s remaining:    0.0s\n",
      "[Parallel(n_jobs=1)]: Done   2 out of   2 | elapsed:    0.0s remaining:    0.0s\n",
      "[Parallel(n_jobs=1)]: Done   3 out of   3 | elapsed:    0.0s remaining:    0.0s\n",
      "[Parallel(n_jobs=1)]: Done   4 out of   4 | elapsed:    0.0s remaining:    0.0s\n",
      "[Parallel(n_jobs=1)]: Done   5 out of   5 | elapsed:    0.0s remaining:    0.0s\n",
      "[Parallel(n_jobs=1)]: Done   6 out of   6 | elapsed:    0.0s remaining:    0.0s\n",
      "[Parallel(n_jobs=1)]: Done   7 out of   7 | elapsed:    0.0s remaining:    0.0s\n",
      "[Parallel(n_jobs=1)]: Done   8 out of   8 | elapsed:    0.0s remaining:    0.0s\n",
      "[Parallel(n_jobs=1)]: Done   9 out of   9 | elapsed:    0.0s remaining:    0.0s\n"
     ]
    },
    {
     "name": "stdout",
     "output_type": "stream",
     "text": [
      "\n",
      "[CV] C=1, penalty=l2, solver=lbfgs ...................................\n",
      "[CV] ......... C=1, penalty=l2, solver=lbfgs, score=1.0, total=   0.0s\n",
      "[CV] C=1, penalty=l2, solver=lbfgs ...................................\n",
      "[CV]  C=1, penalty=l2, solver=lbfgs, score=0.9090909090909091, total=   0.0s\n",
      "[CV] C=1, penalty=l2, solver=lbfgs ...................................\n",
      "[CV] ......... C=1, penalty=l2, solver=lbfgs, score=1.0, total=   0.0s\n",
      "[CV] C=1, penalty=l2, solver=lbfgs ...................................\n",
      "[CV]  C=1, penalty=l2, solver=lbfgs, score=0.9090909090909091, total=   0.0s\n",
      "[CV] C=1, penalty=l2, solver=lbfgs ...................................\n",
      "[CV]  C=1, penalty=l2, solver=lbfgs, score=0.8181818181818182, total=   0.0s\n",
      "[CV] C=1, penalty=l2, solver=lbfgs ...................................\n",
      "[CV]  C=1, penalty=l2, solver=lbfgs, score=0.9090909090909091, total=   0.0s\n",
      "[CV] C=1, penalty=l2, solver=liblinear ...............................\n",
      "[CV] ... C=1, penalty=l2, solver=liblinear, score=0.875, total=   0.0s\n",
      "[CV] C=1, penalty=l2, solver=liblinear ...............................\n",
      "[CV]  C=1, penalty=l2, solver=liblinear, score=0.9166666666666666, total=   0.0s\n",
      "[CV] C=1, penalty=l2, solver=liblinear ...............................\n",
      "[CV]  C=1, penalty=l2, solver=liblinear, score=0.9090909090909091, total=   0.0s\n",
      "[CV] C=1, penalty=l2, solver=liblinear ...............................\n",
      "[CV]  C=1, penalty=l2, solver=liblinear, score=0.9545454545454546, total=   0.0s\n",
      "[CV] C=1, penalty=l2, solver=liblinear ...............................\n",
      "[CV] ..... C=1, penalty=l2, solver=liblinear, score=1.0, total=   0.0s\n",
      "[CV] C=1, penalty=l2, solver=liblinear ...............................\n",
      "[CV]  C=1, penalty=l2, solver=liblinear, score=0.9090909090909091, total=   0.0s\n",
      "[CV] C=1, penalty=l2, solver=liblinear ...............................\n",
      "[CV] ..... C=1, penalty=l2, solver=liblinear, score=1.0, total=   0.0s\n",
      "[CV] C=1, penalty=l2, solver=liblinear ...............................\n",
      "[CV]  C=1, penalty=l2, solver=liblinear, score=0.9090909090909091, total=   0.0s\n",
      "[CV] C=1, penalty=l2, solver=liblinear ...............................\n",
      "[CV]  C=1, penalty=l2, solver=liblinear, score=0.8181818181818182, total=   0.0s\n",
      "[CV] C=1, penalty=l2, solver=liblinear ...............................\n",
      "[CV]  C=1, penalty=l2, solver=liblinear, score=0.9090909090909091, total=   0.0s\n",
      "[CV] C=1, penalty=l2, solver=sag .....................................\n",
      "[CV] ......... C=1, penalty=l2, solver=sag, score=0.875, total=   0.0s\n",
      "[CV] C=1, penalty=l2, solver=sag .....................................\n",
      "[CV]  C=1, penalty=l2, solver=sag, score=0.9166666666666666, total=   0.0s\n",
      "[CV] C=1, penalty=l2, solver=sag .....................................\n",
      "[CV]  C=1, penalty=l2, solver=sag, score=0.9090909090909091, total=   0.0s\n",
      "[CV] C=1, penalty=l2, solver=sag .....................................\n",
      "[CV]  C=1, penalty=l2, solver=sag, score=0.9545454545454546, total=   0.0s\n",
      "[CV] C=1, penalty=l2, solver=sag .....................................\n",
      "[CV] ........... C=1, penalty=l2, solver=sag, score=1.0, total=   0.0s\n",
      "[CV] C=1, penalty=l2, solver=sag .....................................\n",
      "[CV]  C=1, penalty=l2, solver=sag, score=0.9090909090909091, total=   0.0s\n",
      "[CV] C=1, penalty=l2, solver=sag .....................................\n",
      "[CV] ........... C=1, penalty=l2, solver=sag, score=1.0, total=   0.0s\n",
      "[CV] C=1, penalty=l2, solver=sag .....................................\n",
      "[CV]  C=1, penalty=l2, solver=sag, score=0.9090909090909091, total=   0.0s\n",
      "[CV] C=1, penalty=l2, solver=sag .....................................\n",
      "[CV]  C=1, penalty=l2, solver=sag, score=0.8181818181818182, total=   0.0s\n",
      "[CV] C=1, penalty=l2, solver=sag .....................................\n",
      "[CV]  C=1, penalty=l2, solver=sag, score=0.9090909090909091, total=   0.0s\n",
      "[CV] C=10, penalty=l2, solver=newton-cg ..............................\n",
      "[CV]  C=10, penalty=l2, solver=newton-cg, score=0.9166666666666666, total=   0.0s\n",
      "[CV] C=10, penalty=l2, solver=newton-cg ..............................\n",
      "[CV]  C=10, penalty=l2, solver=newton-cg, score=0.9166666666666666, total=   0.0s\n",
      "[CV] C=10, penalty=l2, solver=newton-cg ..............................\n",
      "[CV]  C=10, penalty=l2, solver=newton-cg, score=0.9090909090909091, total=   0.0s\n",
      "[CV] C=10, penalty=l2, solver=newton-cg ..............................\n",
      "[CV]  C=10, penalty=l2, solver=newton-cg, score=0.9545454545454546, total=   0.0s\n",
      "[CV] C=10, penalty=l2, solver=newton-cg ..............................\n",
      "[CV] .... C=10, penalty=l2, solver=newton-cg, score=1.0, total=   0.0s\n",
      "[CV] C=10, penalty=l2, solver=newton-cg ..............................\n",
      "[CV]  C=10, penalty=l2, solver=newton-cg, score=0.8636363636363636, total=   0.0s\n",
      "[CV] C=10, penalty=l2, solver=newton-cg ..............................\n",
      "[CV] .... C=10, penalty=l2, solver=newton-cg, score=1.0, total=   0.0s\n",
      "[CV] C=10, penalty=l2, solver=newton-cg ..............................\n",
      "[CV]  C=10, penalty=l2, solver=newton-cg, score=0.9090909090909091, total=   0.0s\n",
      "[CV] C=10, penalty=l2, solver=newton-cg ..............................\n",
      "[CV]  C=10, penalty=l2, solver=newton-cg, score=0.8181818181818182, total=   0.0s\n",
      "[CV] C=10, penalty=l2, solver=newton-cg ..............................\n",
      "[CV]  C=10, penalty=l2, solver=newton-cg, score=0.9090909090909091, total=   0.0s\n",
      "[CV] C=10, penalty=l2, solver=lbfgs ..................................\n",
      "[CV]  C=10, penalty=l2, solver=lbfgs, score=0.9166666666666666, total=   0.0s\n",
      "[CV] C=10, penalty=l2, solver=lbfgs ..................................\n",
      "[CV]  C=10, penalty=l2, solver=lbfgs, score=0.9166666666666666, total=   0.0s\n",
      "[CV] C=10, penalty=l2, solver=lbfgs ..................................\n",
      "[CV]  C=10, penalty=l2, solver=lbfgs, score=0.9090909090909091, total=   0.0s\n",
      "[CV] C=10, penalty=l2, solver=lbfgs ..................................\n",
      "[CV]  C=10, penalty=l2, solver=lbfgs, score=0.9545454545454546, total=   0.0s\n",
      "[CV] C=10, penalty=l2, solver=lbfgs ..................................\n",
      "[CV] ........ C=10, penalty=l2, solver=lbfgs, score=1.0, total=   0.0s\n",
      "[CV] C=10, penalty=l2, solver=lbfgs ..................................\n",
      "[CV]  C=10, penalty=l2, solver=lbfgs, score=0.8636363636363636, total=   0.0s\n",
      "[CV] C=10, penalty=l2, solver=lbfgs ..................................\n",
      "[CV] ........ C=10, penalty=l2, solver=lbfgs, score=1.0, total=   0.0s\n",
      "[CV] C=10, penalty=l2, solver=lbfgs ..................................\n",
      "[CV]  C=10, penalty=l2, solver=lbfgs, score=0.9090909090909091, total=   0.0s\n",
      "[CV] C=10, penalty=l2, solver=lbfgs ..................................\n",
      "[CV]  C=10, penalty=l2, solver=lbfgs, score=0.8181818181818182, total=   0.0s\n",
      "[CV] C=10, penalty=l2, solver=lbfgs ..................................\n",
      "[CV]  C=10, penalty=l2, solver=lbfgs, score=0.9090909090909091, total=   0.0s\n",
      "[CV] C=10, penalty=l2, solver=liblinear ..............................\n",
      "[CV] .. C=10, penalty=l2, solver=liblinear, score=0.875, total=   0.0s\n",
      "[CV] C=10, penalty=l2, solver=liblinear ..............................\n",
      "[CV]  C=10, penalty=l2, solver=liblinear, score=0.9166666666666666, total=   0.0s\n",
      "[CV] C=10, penalty=l2, solver=liblinear ..............................\n",
      "[CV]  C=10, penalty=l2, solver=liblinear, score=0.9090909090909091, total=   0.0s\n",
      "[CV] C=10, penalty=l2, solver=liblinear ..............................\n",
      "[CV]  C=10, penalty=l2, solver=liblinear, score=0.9545454545454546, total=   0.0s\n",
      "[CV] C=10, penalty=l2, solver=liblinear ..............................\n",
      "[CV] .... C=10, penalty=l2, solver=liblinear, score=1.0, total=   0.0s\n",
      "[CV] C=10, penalty=l2, solver=liblinear ..............................\n",
      "[CV]  C=10, penalty=l2, solver=liblinear, score=0.8636363636363636, total=   0.0s\n",
      "[CV] C=10, penalty=l2, solver=liblinear ..............................\n",
      "[CV] .... C=10, penalty=l2, solver=liblinear, score=1.0, total=   0.0s\n",
      "[CV] C=10, penalty=l2, solver=liblinear ..............................\n",
      "[CV]  C=10, penalty=l2, solver=liblinear, score=0.9090909090909091, total=   0.0s\n",
      "[CV] C=10, penalty=l2, solver=liblinear ..............................\n",
      "[CV]  C=10, penalty=l2, solver=liblinear, score=0.8181818181818182, total=   0.0s\n",
      "[CV] C=10, penalty=l2, solver=liblinear ..............................\n",
      "[CV]  C=10, penalty=l2, solver=liblinear, score=0.9090909090909091, total=   0.0s\n",
      "[CV] C=10, penalty=l2, solver=sag ....................................\n",
      "[CV]  C=10, penalty=l2, solver=sag, score=0.9166666666666666, total=   0.0s\n",
      "[CV] C=10, penalty=l2, solver=sag ....................................\n",
      "[CV]  C=10, penalty=l2, solver=sag, score=0.9166666666666666, total=   0.0s\n",
      "[CV] C=10, penalty=l2, solver=sag ....................................\n",
      "[CV]  C=10, penalty=l2, solver=sag, score=0.9090909090909091, total=   0.0s\n",
      "[CV] C=10, penalty=l2, solver=sag ....................................\n",
      "[CV]  C=10, penalty=l2, solver=sag, score=0.9545454545454546, total=   0.0s\n",
      "[CV] C=10, penalty=l2, solver=sag ....................................\n",
      "[CV] .......... C=10, penalty=l2, solver=sag, score=1.0, total=   0.0s\n",
      "[CV] C=10, penalty=l2, solver=sag ....................................\n",
      "[CV]  C=10, penalty=l2, solver=sag, score=0.8636363636363636, total=   0.0s\n",
      "[CV] C=10, penalty=l2, solver=sag ....................................\n",
      "[CV] .......... C=10, penalty=l2, solver=sag, score=1.0, total=   0.0s\n",
      "[CV] C=10, penalty=l2, solver=sag ....................................\n"
     ]
    },
    {
     "name": "stderr",
     "output_type": "stream",
     "text": [
      "C:\\Users\\Tipu\\Anaconda3\\lib\\site-packages\\sklearn\\linear_model\\sag.py:334: ConvergenceWarning: The max_iter was reached which means the coef_ did not converge\n",
      "  \"the coef_ did not converge\", ConvergenceWarning)\n",
      "C:\\Users\\Tipu\\Anaconda3\\lib\\site-packages\\sklearn\\linear_model\\sag.py:334: ConvergenceWarning: The max_iter was reached which means the coef_ did not converge\n",
      "  \"the coef_ did not converge\", ConvergenceWarning)\n",
      "C:\\Users\\Tipu\\Anaconda3\\lib\\site-packages\\sklearn\\linear_model\\sag.py:334: ConvergenceWarning: The max_iter was reached which means the coef_ did not converge\n",
      "  \"the coef_ did not converge\", ConvergenceWarning)\n",
      "C:\\Users\\Tipu\\Anaconda3\\lib\\site-packages\\sklearn\\linear_model\\sag.py:334: ConvergenceWarning: The max_iter was reached which means the coef_ did not converge\n",
      "  \"the coef_ did not converge\", ConvergenceWarning)\n",
      "C:\\Users\\Tipu\\Anaconda3\\lib\\site-packages\\sklearn\\linear_model\\sag.py:334: ConvergenceWarning: The max_iter was reached which means the coef_ did not converge\n",
      "  \"the coef_ did not converge\", ConvergenceWarning)\n",
      "C:\\Users\\Tipu\\Anaconda3\\lib\\site-packages\\sklearn\\linear_model\\sag.py:334: ConvergenceWarning: The max_iter was reached which means the coef_ did not converge\n",
      "  \"the coef_ did not converge\", ConvergenceWarning)\n",
      "C:\\Users\\Tipu\\Anaconda3\\lib\\site-packages\\sklearn\\linear_model\\sag.py:334: ConvergenceWarning: The max_iter was reached which means the coef_ did not converge\n",
      "  \"the coef_ did not converge\", ConvergenceWarning)\n",
      "C:\\Users\\Tipu\\Anaconda3\\lib\\site-packages\\sklearn\\linear_model\\sag.py:334: ConvergenceWarning: The max_iter was reached which means the coef_ did not converge\n",
      "  \"the coef_ did not converge\", ConvergenceWarning)\n",
      "C:\\Users\\Tipu\\Anaconda3\\lib\\site-packages\\sklearn\\linear_model\\sag.py:334: ConvergenceWarning: The max_iter was reached which means the coef_ did not converge\n",
      "  \"the coef_ did not converge\", ConvergenceWarning)\n",
      "C:\\Users\\Tipu\\Anaconda3\\lib\\site-packages\\sklearn\\linear_model\\sag.py:334: ConvergenceWarning: The max_iter was reached which means the coef_ did not converge\n",
      "  \"the coef_ did not converge\", ConvergenceWarning)\n"
     ]
    },
    {
     "name": "stdout",
     "output_type": "stream",
     "text": [
      "[CV]  C=10, penalty=l2, solver=sag, score=0.9090909090909091, total=   0.0s\n",
      "[CV] C=10, penalty=l2, solver=sag ....................................\n",
      "[CV]  C=10, penalty=l2, solver=sag, score=0.8181818181818182, total=   0.0s\n",
      "[CV] C=10, penalty=l2, solver=sag ....................................\n",
      "[CV]  C=10, penalty=l2, solver=sag, score=0.9090909090909091, total=   0.0s\n",
      "[CV] C=100, penalty=l2, solver=newton-cg .............................\n",
      "[CV]  C=100, penalty=l2, solver=newton-cg, score=0.9166666666666666, total=   0.0s\n",
      "[CV] C=100, penalty=l2, solver=newton-cg .............................\n",
      "[CV] . C=100, penalty=l2, solver=newton-cg, score=0.875, total=   0.0s\n",
      "[CV] C=100, penalty=l2, solver=newton-cg .............................\n",
      "[CV]  C=100, penalty=l2, solver=newton-cg, score=0.9090909090909091, total=   0.0s\n",
      "[CV] C=100, penalty=l2, solver=newton-cg .............................\n",
      "[CV]  C=100, penalty=l2, solver=newton-cg, score=0.9090909090909091, total=   0.0s\n",
      "[CV] C=100, penalty=l2, solver=newton-cg .............................\n",
      "[CV] ... C=100, penalty=l2, solver=newton-cg, score=1.0, total=   0.0s\n",
      "[CV] C=100, penalty=l2, solver=newton-cg .............................\n",
      "[CV]  C=100, penalty=l2, solver=newton-cg, score=0.8636363636363636, total=   0.0s\n",
      "[CV] C=100, penalty=l2, solver=newton-cg .............................\n",
      "[CV] ... C=100, penalty=l2, solver=newton-cg, score=1.0, total=   0.0s\n",
      "[CV] C=100, penalty=l2, solver=newton-cg .............................\n",
      "[CV]  C=100, penalty=l2, solver=newton-cg, score=0.9090909090909091, total=   0.0s\n",
      "[CV] C=100, penalty=l2, solver=newton-cg .............................\n",
      "[CV]  C=100, penalty=l2, solver=newton-cg, score=0.8181818181818182, total=   0.0s\n",
      "[CV] C=100, penalty=l2, solver=newton-cg .............................\n",
      "[CV]  C=100, penalty=l2, solver=newton-cg, score=0.8636363636363636, total=   0.0s\n",
      "[CV] C=100, penalty=l2, solver=lbfgs .................................\n",
      "[CV]  C=100, penalty=l2, solver=lbfgs, score=0.9166666666666666, total=   0.0s\n",
      "[CV] C=100, penalty=l2, solver=lbfgs .................................\n",
      "[CV] ..... C=100, penalty=l2, solver=lbfgs, score=0.875, total=   0.0s\n",
      "[CV] C=100, penalty=l2, solver=lbfgs .................................\n",
      "[CV]  C=100, penalty=l2, solver=lbfgs, score=0.9090909090909091, total=   0.0s\n",
      "[CV] C=100, penalty=l2, solver=lbfgs .................................\n",
      "[CV]  C=100, penalty=l2, solver=lbfgs, score=0.9090909090909091, total=   0.0s\n",
      "[CV] C=100, penalty=l2, solver=lbfgs .................................\n",
      "[CV] ....... C=100, penalty=l2, solver=lbfgs, score=1.0, total=   0.0s\n",
      "[CV] C=100, penalty=l2, solver=lbfgs .................................\n",
      "[CV]  C=100, penalty=l2, solver=lbfgs, score=0.8636363636363636, total=   0.0s"
     ]
    },
    {
     "name": "stderr",
     "output_type": "stream",
     "text": [
      "C:\\Users\\Tipu\\Anaconda3\\lib\\site-packages\\sklearn\\linear_model\\logistic.py:758: ConvergenceWarning: lbfgs failed to converge. Increase the number of iterations.\n",
      "  \"of iterations.\", ConvergenceWarning)\n",
      "C:\\Users\\Tipu\\Anaconda3\\lib\\site-packages\\sklearn\\linear_model\\logistic.py:758: ConvergenceWarning: lbfgs failed to converge. Increase the number of iterations.\n",
      "  \"of iterations.\", ConvergenceWarning)\n"
     ]
    },
    {
     "name": "stdout",
     "output_type": "stream",
     "text": [
      "\n",
      "[CV] C=100, penalty=l2, solver=lbfgs .................................\n",
      "[CV] ....... C=100, penalty=l2, solver=lbfgs, score=1.0, total=   0.0s\n",
      "[CV] C=100, penalty=l2, solver=lbfgs .................................\n",
      "[CV]  C=100, penalty=l2, solver=lbfgs, score=0.9090909090909091, total=   0.0s\n",
      "[CV] C=100, penalty=l2, solver=lbfgs .................................\n",
      "[CV]  C=100, penalty=l2, solver=lbfgs, score=0.8181818181818182, total=   0.0s\n",
      "[CV] C=100, penalty=l2, solver=lbfgs .................................\n",
      "[CV]  C=100, penalty=l2, solver=lbfgs, score=0.8636363636363636, total=   0.0s\n",
      "[CV] C=100, penalty=l2, solver=liblinear .............................\n",
      "[CV]  C=100, penalty=l2, solver=liblinear, score=0.9166666666666666, total=   0.0s\n",
      "[CV] C=100, penalty=l2, solver=liblinear .............................\n",
      "[CV]  C=100, penalty=l2, solver=liblinear, score=0.9166666666666666, total=   0.0s\n",
      "[CV] C=100, penalty=l2, solver=liblinear .............................\n",
      "[CV]  C=100, penalty=l2, solver=liblinear, score=0.9090909090909091, total=   0.0s\n",
      "[CV] C=100, penalty=l2, solver=liblinear .............................\n",
      "[CV]  C=100, penalty=l2, solver=liblinear, score=0.9090909090909091, total=   0.0s\n",
      "[CV] C=100, penalty=l2, solver=liblinear .............................\n",
      "[CV] ... C=100, penalty=l2, solver=liblinear, score=1.0, total=   0.0s\n",
      "[CV] C=100, penalty=l2, solver=liblinear .............................\n",
      "[CV]  C=100, penalty=l2, solver=liblinear, score=0.8636363636363636, total=   0.0s\n",
      "[CV] C=100, penalty=l2, solver=liblinear .............................\n",
      "[CV] ... C=100, penalty=l2, solver=liblinear, score=1.0, total=   0.0s\n",
      "[CV] C=100, penalty=l2, solver=liblinear .............................\n",
      "[CV]  C=100, penalty=l2, solver=liblinear, score=0.9090909090909091, total=   0.0s\n",
      "[CV] C=100, penalty=l2, solver=liblinear .............................\n",
      "[CV]  C=100, penalty=l2, solver=liblinear, score=0.8181818181818182, total=   0.0s\n",
      "[CV] C=100, penalty=l2, solver=liblinear .............................\n",
      "[CV]  C=100, penalty=l2, solver=liblinear, score=0.8636363636363636, total=   0.0s\n",
      "[CV] C=100, penalty=l2, solver=sag ...................................\n",
      "[CV]  C=100, penalty=l2, solver=sag, score=0.9166666666666666, total=   0.0s\n",
      "[CV] C=100, penalty=l2, solver=sag ...................................\n",
      "[CV]  C=100, penalty=l2, solver=sag, score=0.9166666666666666, total=   0.0s\n",
      "[CV] C=100, penalty=l2, solver=sag ...................................\n",
      "[CV]  C=100, penalty=l2, solver=sag, score=0.9090909090909091, total=   0.0s\n",
      "[CV] C=100, penalty=l2, solver=sag ...................................\n",
      "[CV]  C=100, penalty=l2, solver=sag, score=0.9090909090909091, total=   0.0s\n",
      "[CV] C=100, penalty=l2, solver=sag ...................................\n",
      "[CV] ......... C=100, penalty=l2, solver=sag, score=1.0, total=   0.0s\n",
      "[CV] C=100, penalty=l2, solver=sag ...................................\n",
      "[CV]  C=100, penalty=l2, solver=sag, score=0.8636363636363636, total=   0.0s\n",
      "[CV] C=100, penalty=l2, solver=sag ...................................\n",
      "[CV] ......... C=100, penalty=l2, solver=sag, score=1.0, total=   0.0s\n",
      "[CV] C=100, penalty=l2, solver=sag ...................................\n",
      "[CV]  C=100, penalty=l2, solver=sag, score=0.9090909090909091, total=   0.0s\n",
      "[CV] C=100, penalty=l2, solver=sag ...................................\n",
      "[CV]  C=100, penalty=l2, solver=sag, score=0.8181818181818182, total=   0.0s\n",
      "[CV] C=100, penalty=l2, solver=sag ...................................\n",
      "[CV]  C=100, penalty=l2, solver=sag, score=0.9090909090909091, total=   0.0s\n"
     ]
    },
    {
     "name": "stderr",
     "output_type": "stream",
     "text": [
      "C:\\Users\\Tipu\\Anaconda3\\lib\\site-packages\\sklearn\\linear_model\\sag.py:334: ConvergenceWarning: The max_iter was reached which means the coef_ did not converge\n",
      "  \"the coef_ did not converge\", ConvergenceWarning)\n",
      "C:\\Users\\Tipu\\Anaconda3\\lib\\site-packages\\sklearn\\linear_model\\sag.py:334: ConvergenceWarning: The max_iter was reached which means the coef_ did not converge\n",
      "  \"the coef_ did not converge\", ConvergenceWarning)\n",
      "C:\\Users\\Tipu\\Anaconda3\\lib\\site-packages\\sklearn\\linear_model\\sag.py:334: ConvergenceWarning: The max_iter was reached which means the coef_ did not converge\n",
      "  \"the coef_ did not converge\", ConvergenceWarning)\n",
      "C:\\Users\\Tipu\\Anaconda3\\lib\\site-packages\\sklearn\\linear_model\\sag.py:334: ConvergenceWarning: The max_iter was reached which means the coef_ did not converge\n",
      "  \"the coef_ did not converge\", ConvergenceWarning)\n",
      "C:\\Users\\Tipu\\Anaconda3\\lib\\site-packages\\sklearn\\linear_model\\sag.py:334: ConvergenceWarning: The max_iter was reached which means the coef_ did not converge\n",
      "  \"the coef_ did not converge\", ConvergenceWarning)\n",
      "C:\\Users\\Tipu\\Anaconda3\\lib\\site-packages\\sklearn\\linear_model\\sag.py:334: ConvergenceWarning: The max_iter was reached which means the coef_ did not converge\n",
      "  \"the coef_ did not converge\", ConvergenceWarning)\n",
      "C:\\Users\\Tipu\\Anaconda3\\lib\\site-packages\\sklearn\\linear_model\\sag.py:334: ConvergenceWarning: The max_iter was reached which means the coef_ did not converge\n",
      "  \"the coef_ did not converge\", ConvergenceWarning)\n",
      "C:\\Users\\Tipu\\Anaconda3\\lib\\site-packages\\sklearn\\linear_model\\sag.py:334: ConvergenceWarning: The max_iter was reached which means the coef_ did not converge\n",
      "  \"the coef_ did not converge\", ConvergenceWarning)\n",
      "C:\\Users\\Tipu\\Anaconda3\\lib\\site-packages\\sklearn\\linear_model\\sag.py:334: ConvergenceWarning: The max_iter was reached which means the coef_ did not converge\n",
      "  \"the coef_ did not converge\", ConvergenceWarning)\n",
      "C:\\Users\\Tipu\\Anaconda3\\lib\\site-packages\\sklearn\\linear_model\\sag.py:334: ConvergenceWarning: The max_iter was reached which means the coef_ did not converge\n",
      "  \"the coef_ did not converge\", ConvergenceWarning)\n",
      "[Parallel(n_jobs=1)]: Done 120 out of 120 | elapsed:    1.6s finished\n",
      "C:\\Users\\Tipu\\Anaconda3\\lib\\site-packages\\sklearn\\model_selection\\_search.py:841: DeprecationWarning: The default of the `iid` parameter will change from True to False in version 0.22 and will be removed in 0.24. This will change numeric results when test-set sizes are unequal.\n",
      "  DeprecationWarning)\n"
     ]
    },
    {
     "data": {
      "text/plain": [
       "GridSearchCV(cv=10, error_score='raise-deprecating',\n",
       "       estimator=LogisticRegression(C=1.0, class_weight=None, dual=False, fit_intercept=True,\n",
       "          intercept_scaling=1, max_iter=100, multi_class='warn',\n",
       "          n_jobs=None, penalty='l2', random_state=None, solver='warn',\n",
       "          tol=0.0001, verbose=0, warm_start=False),\n",
       "       fit_params=None, iid='warn', n_jobs=None,\n",
       "       param_grid={'penalty': ['l2'], 'C': [1, 10, 100], 'solver': ['newton-cg', 'lbfgs', 'liblinear', 'sag']},\n",
       "       pre_dispatch='2*n_jobs', refit=True, return_train_score='warn',\n",
       "       scoring=None, verbose=10)"
      ]
     },
     "execution_count": 18,
     "metadata": {},
     "output_type": "execute_result"
    }
   ],
   "source": [
    "# Use a grid over parameters of interest\n",
    "parameters = {\n",
    "            'penalty':['l2'],\n",
    "            'C':[1,10,100],\n",
    "            'solver': ['newton-cg', 'lbfgs', 'liblinear', 'sag'],\n",
    "        }\n",
    "GS = GridSearchCV(clf, parameters, cv=10, verbose=10)\n",
    "GS.fit(X_train, y_train)"
   ]
  },
  {
   "cell_type": "code",
   "execution_count": 19,
   "metadata": {},
   "outputs": [
    {
     "name": "stdout",
     "output_type": "stream",
     "text": [
      "{'C': 1, 'penalty': 'l2', 'solver': 'newton-cg'}\n"
     ]
    }
   ],
   "source": [
    "#Get best paramers\n",
    "print(GS.best_params_)"
   ]
  },
  {
   "cell_type": "code",
   "execution_count": 20,
   "metadata": {},
   "outputs": [
    {
     "data": {
      "text/plain": [
       "LogisticRegression(C=1.0, class_weight=None, dual=False, fit_intercept=True,\n",
       "          intercept_scaling=1, max_iter=100, multi_class='warn',\n",
       "          n_jobs=None, penalty='l2', random_state=None, solver='newton-cg',\n",
       "          tol=0.0001, verbose=0, warm_start=False)"
      ]
     },
     "execution_count": 20,
     "metadata": {},
     "output_type": "execute_result"
    }
   ],
   "source": [
    "#Optimised the LogisticRegression classifier using these ‘new’ hyperparameters.\n",
    "clf = LogisticRegression(C= 1.0, solver = 'newton-cg')\n",
    "clf.fit(X_train, y_train)"
   ]
  },
  {
   "cell_type": "code",
   "execution_count": 21,
   "metadata": {},
   "outputs": [
    {
     "name": "stdout",
     "output_type": "stream",
     "text": [
      "Accuracy 94.87\n"
     ]
    }
   ],
   "source": [
    "#Prediction on test data\n",
    "y_pred = clf.predict(X_test)\n",
    "#Calculate accuracy\n",
    "from sklearn import metrics\n",
    "print(\"Accuracy %0.2f\" % (100*metrics.accuracy_score(y_test, y_pred)))"
   ]
  },
  {
   "cell_type": "code",
   "execution_count": 22,
   "metadata": {},
   "outputs": [
    {
     "data": {
      "image/png": "[encoded data removed]",
      "text/plain": [
       "<Figure size 432x288 with 1 Axes>"
      ]
     },
     "metadata": {
      "needs_background": "light"
     },
     "output_type": "display_data"
    }
   ],
   "source": [
    "#Draw a confusion matrix\n",
    "import matplotlib.pyplot as plt\n",
    "from mlxtend.evaluate import confusion_matrix \n",
    "from mlxtend.plotting import plot_confusion_matrix\n",
    "\n",
    "cm = confusion_matrix(y_test, y_pred)\n",
    "plt.clf()\n",
    "plt.imshow(cm, interpolation='nearest', cmap=plt.cm.Wistia)\n",
    "classNames = ['Bs_No','Bs_Yes']\n",
    "plt.title('Confusion Matrix',)\n",
    "plt.ylabel('True label', fontsize =20)\n",
    "plt.xlabel('Predicted label' , fontsize =20)\n",
    "tick_marks = np.arange(len(classNames))\n",
    "plt.xticks(tick_marks, classNames, rotation=0, fontsize = 17)\n",
    "plt.yticks(tick_marks, classNames, fontsize = 17)\n",
    "s = [['TN','FP'], ['FN', 'TP']]\n",
    " \n",
    "for i in range(2):\n",
    "    for j in range(2):\n",
    "        plt.text(j,i, str(s[i][j])+\" = \"+str(cm[i][j]), horizontalalignment='center',verticalalignment='center' )"
   ]
  },
  {
   "cell_type": "code",
   "execution_count": 23,
   "metadata": {},
   "outputs": [
    {
     "name": "stdout",
     "output_type": "stream",
     "text": [
      "              precision    recall  f1-score   support\n",
      "\n",
      "           0       0.93      0.97      0.95        39\n",
      "           1       0.97      0.92      0.95        39\n",
      "\n",
      "   micro avg       0.95      0.95      0.95        78\n",
      "   macro avg       0.95      0.95      0.95        78\n",
      "weighted avg       0.95      0.95      0.95        78\n",
      "\n"
     ]
    }
   ],
   "source": [
    "#Classification report\n",
    "from sklearn.metrics import classification_report\n",
    "print(classification_report(y_test, y_pred))"
   ]
  },
  {
   "cell_type": "code",
   "execution_count": 24,
   "metadata": {},
   "outputs": [],
   "source": [
    "import numpy as np\n",
    "from sklearn import metrics\n",
    "import matplotlib.pyplot as plt\n",
    "#fpr, tpr, thresholds = metrics.roc_curve(y_test, y_pred)\n",
    "fpr, tpr, thresholds = metrics.roc_curve(y_test, y_pred)\n",
    "auc=metrics.auc(fpr, tpr)"
   ]
  },
  {
   "cell_type": "code",
   "execution_count": 29,
   "metadata": {},
   "outputs": [],
   "source": [
    "#Define a function for plotting ROC\n",
    "def plotRoc(fpr, tpr):\n",
    "    plt.figure()\n",
    "    plt.plot(fpr, tpr, label=\"LG (AUC: {})\".format(round(auc, 2)))\n",
    "    plt.plot([0,1], [0, 1], \"r--\")\n",
    "    plt.xlim([0.0, 1.0])\n",
    "    plt.ylim([0.0, 1.05])\n",
    "    plt.xlabel(\"False Positive Rate\", fontsize = 23)\n",
    "    plt.ylabel(\"True Positive Rate\", fontsize = 23)\n",
    "    plt.title(\"Reciever Operating Characterstic\",fontsize = 23)\n",
    "    plt.legend(loc=\"lower right\", fontsize = 15)\n",
    "    plt.show()"
   ]
  },
  {
   "cell_type": "code",
   "execution_count": 30,
   "metadata": {},
   "outputs": [
    {
     "data": {
      "image/png": "[encoded data removed]",
      "text/plain": [
       "<Figure size 432x288 with 1 Axes>"
      ]
     },
     "metadata": {
      "needs_background": "light"
     },
     "output_type": "display_data"
    }
   ],
   "source": [
    "#Draw ROC curve\n",
    "plotRoc(fpr,tpr)"
   ]
  },
  {
   "cell_type": "code",
   "execution_count": null,
   "metadata": {},
   "outputs": [],
   "source": []
  }
 ],
 "metadata": {
  "kernelspec": {
   "display_name": "Python 3",
   "language": "python",
   "name": "python3"
  },
  "language_info": {
   "codemirror_mode": {
    "name": "ipython",
    "version": 3
   },
   "file_extension": ".py",
   "mimetype": "text/x-python",
   "name": "python",
   "nbconvert_exporter": "python",
   "pygments_lexer": "ipython3",
   "version": "3.7.1"
  }
 },
 "nbformat": 4,
 "nbformat_minor": 2
}
